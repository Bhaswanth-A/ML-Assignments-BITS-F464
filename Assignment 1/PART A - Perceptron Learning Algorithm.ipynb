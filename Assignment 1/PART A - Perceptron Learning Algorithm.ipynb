{
 "cells": [
  {
   "cell_type": "markdown",
   "id": "12272bb2",
   "metadata": {},
   "source": [
    "# Perceptron Model"
   ]
  },
  {
   "cell_type": "code",
   "execution_count": 1,
   "id": "6a271532",
   "metadata": {},
   "outputs": [],
   "source": [
    "import numpy as np\n",
    "\n",
    "class Perceptron():\n",
    "    def __init__(self, learning_rate=0.01, n_iters=1000):\n",
    "        self.lr = learning_rate\n",
    "        self.n_iters = n_iters\n",
    "        self.activation_func = self.unit_step_function\n",
    "        self.weights = None\n",
    "        self.bias = None\n",
    "        \n",
    "    def fit(self, X, y): # Gets training samples and training labels as its input\n",
    "        n_samples, n_features = X.shape\n",
    "        \n",
    "        # init weights\n",
    "        self.weights = np.zeros(n_features)\n",
    "        self.bias = 0\n",
    "        \n",
    "        # Convert all values of y to 0 or 1, if it is not already the case. List comprehension is used.\n",
    "        y_ = np.array([1 if i>0 else 0 for i in y]) \n",
    "        \n",
    "#         for i in range(self.n_iters):\n",
    "#             linear_output = np.dot(self.weights, X[i]) + self.bias\n",
    "#             y_predicted = self.activation_func(linear_output)\n",
    "            \n",
    "#             update = self.lr * (y[i] - y_predicted)\n",
    "#             self.weights = self.weights + update * X[i]\n",
    "#             self.bias = self.bias + update\n",
    "            \n",
    "        \n",
    "        for _ in range(self.n_iters):\n",
    "            for idx, x_i in enumerate(X):\n",
    "                linear_output = np.dot(x_i, self.weights) + self.bias\n",
    "                y_predicted = self.activation_func(linear_output)\n",
    "                \n",
    "                update = self.lr * (y_[idx] - y_predicted)\n",
    "                self.weights = self.weights + update * x_i\n",
    "                self.bias = self.bias + update\n",
    "\n",
    "        \n",
    "        \n",
    "    \n",
    "    def predict(self, X): # Gets test samples\n",
    "        linear_output = np.dot(X, self.weights) + self.bias\n",
    "        y_predicted = self.activation_func(linear_output)\n",
    "        return y_predicted\n",
    "        \n",
    "        \n",
    "    def unit_step_function(self, x):\n",
    "        return np.where(x>=0, 1, 0)"
   ]
  },
  {
   "cell_type": "markdown",
   "id": "277e17d1",
   "metadata": {},
   "source": [
    "# Learning Task 1"
   ]
  },
  {
   "cell_type": "markdown",
   "id": "852865c1",
   "metadata": {},
   "source": [
    "## PM1"
   ]
  },
  {
   "cell_type": "code",
   "execution_count": null,
   "id": "82c5e7be",
   "metadata": {},
   "outputs": [],
   "source": [
    "import numpy as np\n",
    "import matplotlib.pyplot as plt\n",
    "import pandas as pd\n",
    "import seaborn as sns\n",
    "\n",
    "def accuracy(y_true, y_pred):\n",
    "    accuracy = np.sum(y_true==y_pred)/len(y_true)\n",
    "    return accuracy\n",
    "\n",
    "df = pd.read_csv('data_clean.csv', index_col=False)\n",
    "df.drop('id',axis=1, inplace=True)\n",
    "df.drop('Unnamed: 0',axis=1, inplace=True)\n",
    "\n",
    "#Assign predictors to a variable of ndarray (matrix) type\n",
    "array = df.values\n",
    "X = array[:,1:31]\n",
    "y = array[:,0]\n",
    "\n",
    "#transform the class labels from their original string representation (M and B) into integers - Label Encoding\n",
    "for i in range(569):\n",
    "    if y[i]=='M':\n",
    "        y[i] = 1\n",
    "    if y[i]=='B':\n",
    "        y[i] = 0\n",
    "        \n",
    "df.iloc[:,0] = y\n",
    "\n",
    "##Split data set in train 67% and test 33%\n",
    "def sample_first_prows(data, perc=0.67):\n",
    "    return data.head(int(len(data)*(perc))).values\n",
    "\n",
    "array = sample_first_prows(df)\n",
    "X_train = array[:,1:31]\n",
    "y_train = array[:,0]\n",
    "X_test = df.iloc[len(X_train):,1:31]\n",
    "y_test = df.iloc[len(y_train):,0]\n",
    "\n",
    "##Split data set in train 67% and test 33%\n",
    "# X_train, X_test, y_train, y_test = train_test_split( X, y, test_size=0.33, random_state=7)\n",
    "X_train.shape, y_train.shape, X_test.shape, y_test.shape"
   ]
  },
  {
   "cell_type": "code",
   "execution_count": 166,
   "id": "b4b01428",
   "metadata": {},
   "outputs": [
    {
     "name": "stdout",
     "output_type": "stream",
     "text": [
      "Perceptron classification accuracy:  0.22872340425531915\n"
     ]
    },
    {
     "data": {
      "image/png": "[encoded data removed]",
      "text/plain": [
       "<Figure size 432x288 with 1 Axes>"
      ]
     },
     "metadata": {
      "needs_background": "light"
     },
     "output_type": "display_data"
    }
   ],
   "source": [
    "p = Perceptron(learning_rate=0.01, n_iters=100000)\n",
    "p.fit(X_train, y_train)\n",
    "predictions = p.predict(X_test)\n",
    "\n",
    "print(\"Perceptron classification accuracy: \", accuracy(y_test, predictions))\n",
    "\n",
    "fig = plt.figure()\n",
    "ax = fig.add_subplot(1,1,1)\n",
    "plt.scatter(X_train[:,0], X_train[:,1], marker='o', c=y_train)\n",
    "\n",
    "x0_1 = np.amin(X_train[:,0])\n",
    "x0_2 = np.amax(X_train[:,0])\n",
    "\n",
    "x1_1 = (-p.weights[0] * x0_1 - p.bias) / p.weights[1]\n",
    "x1_2 = (-p.weights[0] * x0_2 - p.bias) / p.weights[1]\n",
    "\n",
    "ax.plot([x0_1, x0_2],[x1_1, x1_2], 'k')\n",
    "\n",
    "ymin = np.amin(X_train[:,1])\n",
    "ymax = np.amax(X_train[:,1])\n",
    "ax.set_ylim([ymin-3,ymax+3])\n",
    "\n",
    "plt.show()"
   ]
  },
  {
   "cell_type": "markdown",
   "id": "5dd28cc4",
   "metadata": {},
   "source": [
    "## PM2"
   ]
  },
  {
   "cell_type": "code",
   "execution_count": 167,
   "id": "e35ead61",
   "metadata": {},
   "outputs": [
    {
     "data": {
      "text/plain": [
       "((381, 30), (381,), (188, 30), (188,))"
      ]
     },
     "execution_count": 167,
     "metadata": {},
     "output_type": "execute_result"
    }
   ],
   "source": [
    "import numpy as np\n",
    "import matplotlib.pyplot as plt\n",
    "import pandas as pd\n",
    "import seaborn as sns\n",
    "import random\n",
    "\n",
    "def accuracy(y_true, y_pred):\n",
    "    accuracy = np.sum(y_true==y_pred)/len(y_true)\n",
    "    return accuracy\n",
    "\n",
    "df = pd.read_csv('data_clean.csv', index_col=False)\n",
    "df.drop('id',axis=1, inplace=True)\n",
    "df.drop('Unnamed: 0',axis=1, inplace=True)\n",
    "\n",
    "#Assign predictors to a variable of ndarray (matrix) type\n",
    "array = df.values\n",
    "X = array[:,1:31]\n",
    "y = array[:,0]\n",
    "\n",
    "#transform the class labels from their original string representation (M and B) into integers - Label Encoding\n",
    "for i in range(569):\n",
    "    if y[i]=='M':\n",
    "        y[i] = 1\n",
    "    if y[i]=='B':\n",
    "        y[i] = 0\n",
    "        \n",
    "df.iloc[:,0] = y\n",
    "\n",
    "##Split data set in train 67% and test 33%\n",
    "def sample_first_prows(data, perc=0.67):\n",
    "    return data.head(int(len(data)*(perc))).values\n",
    "\n",
    "# Shuffle training examples\n",
    "array = sample_first_prows(df)\n",
    "array = pd.DataFrame(array)\n",
    "array = array.sample(frac=1, axis=0)\n",
    "X_train = array.iloc[:,1:31]\n",
    "y_train = array.iloc[:,0]\n",
    "X_test = df.iloc[len(X_train):,1:31]\n",
    "y_test = df.iloc[len(y_train):,0]\n",
    "\n",
    "X_train = np.array(X_train)\n",
    "y_train = np.array(y_train)\n",
    "\n",
    "X_train.shape, y_train.shape, X_test.shape, y_test.shape"
   ]
  },
  {
   "cell_type": "code",
   "execution_count": null,
   "id": "9c27554b",
   "metadata": {},
   "outputs": [],
   "source": [
    "p = Perceptron(learning_rate=0.01, n_iters=50000)\n",
    "p.fit(X_train, y_train)\n",
    "predictions = p.predict(X_test)\n",
    "\n",
    "print(\"Perceptron classification accuracy: \", accuracy(y_test, predictions))\n",
    "\n",
    "fig = plt.figure()\n",
    "ax = fig.add_subplot(1,1,1)\n",
    "plt.scatter(X_train[:,0], X_train[:,1], marker='o', c=y_train)\n",
    "\n",
    "x0_1 = np.amin(X_train[:,0])\n",
    "x0_2 = np.amax(X_train[:,0])\n",
    "\n",
    "x1_1 = (-p.weights[0] * x0_1 - p.bias) / p.weights[1]\n",
    "x1_2 = (-p.weights[0] * x0_2 - p.bias) / p.weights[1]\n",
    "\n",
    "ax.plot([x0_1, x0_2],[x1_1, x1_2], 'k')\n",
    "\n",
    "ymin = np.amin(X_train[:,1])\n",
    "ymax = np.amax(X_train[:,1])\n",
    "ax.set_ylim([ymin-3,ymax+3])\n",
    "\n",
    "plt.show()"
   ]
  },
  {
   "cell_type": "markdown",
   "id": "2503c8c9",
   "metadata": {},
   "source": [
    "# Learning Task 2"
   ]
  },
  {
   "cell_type": "markdown",
   "id": "478def63",
   "metadata": {},
   "source": [
    "## PM3"
   ]
  },
  {
   "cell_type": "code",
   "execution_count": 96,
   "id": "b3ac7ec8",
   "metadata": {},
   "outputs": [
    {
     "data": {
      "text/plain": [
       "((381, 30), (381,), (188, 30), (188,))"
      ]
     },
     "execution_count": 96,
     "metadata": {},
     "output_type": "execute_result"
    }
   ],
   "source": [
    "import numpy as np\n",
    "import matplotlib.pyplot as plt\n",
    "import pandas as pd\n",
    "import seaborn as sns\n",
    "\n",
    "def accuracy(y_true, y_pred):\n",
    "    accuracy = np.sum(y_true==y_pred)/len(y_true)\n",
    "    return accuracy\n",
    "\n",
    "df = pd.read_csv('data_standardized.csv', index_col=False)\n",
    "df.drop('Unnamed: 0',axis=1, inplace=True)\n",
    "\n",
    "#Assign predictors to a variable of ndarray (matrix) type\n",
    "array = df.values\n",
    "X = array[:,1:31]\n",
    "y = array[:,0]\n",
    "\n",
    "#transform the class labels from their original string representation (M and B) into integers - Label Encoding\n",
    "for i in range(569):\n",
    "    if y[i]=='M':\n",
    "        y[i] = 1\n",
    "    if y[i]=='B':\n",
    "        y[i] = 0\n",
    "        \n",
    "df.iloc[:,0] = y\n",
    "\n",
    "##Split data set in train 67% and test 33%\n",
    "def sample_first_prows(data, perc=0.67):\n",
    "    return data.head(int(len(data)*(perc))).values\n",
    "\n",
    "array = sample_first_prows(df)\n",
    "X_train = array[:,1:31]\n",
    "y_train = array[:,0]\n",
    "X_test = df.iloc[len(X_train):,1:31]\n",
    "y_test = df.iloc[len(y_train):,0]\n",
    "\n",
    "##Split data set in train 67% and test 33%\n",
    "# X_train, X_test, y_train, y_test = train_test_split( X, y, test_size=0.33, random_state=7)\n",
    "X_train.shape, y_train.shape, X_test.shape, y_test.shape"
   ]
  },
  {
   "cell_type": "code",
   "execution_count": null,
   "id": "a8835b78",
   "metadata": {},
   "outputs": [],
   "source": [
    "p = Perceptron(learning_rate=0.01, n_iters=50000)\n",
    "p.fit(X_train, y_train)\n",
    "predictions = p.predict(X_test)\n",
    "\n",
    "print(\"Perceptron classification accuracy: \", accuracy(y_test, predictions))\n",
    "\n",
    "fig = plt.figure()\n",
    "ax = fig.add_subplot(1,1,1)\n",
    "plt.scatter(X_train[:,0], X_train[:,1], marker='o', c=y_train)\n",
    "\n",
    "x0_1 = np.amin(X_train[:,0])\n",
    "x0_2 = np.amax(X_train[:,0])\n",
    "\n",
    "x1_1 = (-p.weights[0] * x0_1 - p.bias) / p.weights[1]\n",
    "x1_2 = (-p.weights[0] * x0_2 - p.bias) / p.weights[1]\n",
    "\n",
    "ax.plot([x0_1, x0_2],[x1_1, x1_2], 'k')\n",
    "\n",
    "ymin = np.amin(X_train[:,1])\n",
    "ymax = np.amax(X_train[:,1])\n",
    "ax.set_ylim([ymin-3,ymax+3])\n",
    "\n",
    "plt.show()"
   ]
  },
  {
   "cell_type": "markdown",
   "id": "1818bb24",
   "metadata": {},
   "source": [
    "# Learning Task 3"
   ]
  },
  {
   "cell_type": "markdown",
   "id": "e8b2f0bc",
   "metadata": {},
   "source": [
    "## PM4"
   ]
  },
  {
   "cell_type": "code",
   "execution_count": null,
   "id": "84d1bdcd",
   "metadata": {},
   "outputs": [],
   "source": [
    "import numpy as np\n",
    "import matplotlib.pyplot as plt\n",
    "import pandas as pd\n",
    "import seaborn as sns\n",
    "import random\n",
    "\n",
    "def accuracy(y_true, y_pred):\n",
    "    accuracy = np.sum(y_true==y_pred)/len(y_true)\n",
    "    return accuracy\n",
    "\n",
    "df = pd.read_csv('data_clean.csv', index_col=False)\n",
    "df.drop('id',axis=1, inplace=True)\n",
    "df.drop('Unnamed: 0',axis=1, inplace=True)\n",
    "\n",
    "#Assign predictors to a variable of ndarray (matrix) type\n",
    "array = df.values\n",
    "X = array[:,1:31]\n",
    "y = array[:,0]\n",
    "\n",
    "#transform the class labels from their original string representation (M and B) into integers - Label Encoding\n",
    "for i in range(569):\n",
    "    if y[i]=='M':\n",
    "        y[i] = 1\n",
    "    if y[i]=='B':\n",
    "        y[i] = 0\n",
    "        \n",
    "df.iloc[:,0] = y\n",
    "\n",
    "##Split data set in train 67% and test 33%\n",
    "def sample_first_prows(data, perc=0.67):\n",
    "    return data.head(int(len(data)*(perc))).values\n",
    "\n",
    "# Shuffle training examples\n",
    "array = sample_first_prows(df)\n",
    "array = pd.DataFrame(array)\n",
    "array1 = array.iloc[:,1:31].sample(frac = 1, axis=1)\n",
    "print(array1)\n",
    "X_train = array1.iloc[:,0:30]\n",
    "y_train = array.iloc[:,0]\n",
    "X_test = df.iloc[len(X_train):,1:31]\n",
    "y_test = df.iloc[len(y_train):,0]\n",
    "\n",
    "X_train = np.array(X_train)\n",
    "y_train = np.array(y_train)\n",
    "\n",
    "X_train.shape, y_train.shape, X_test.shape, y_test.shape"
   ]
  },
  {
   "cell_type": "code",
   "execution_count": null,
   "id": "1eba9a15",
   "metadata": {},
   "outputs": [],
   "source": [
    "p = Perceptron(learning_rate=0.01, n_iters=50000)\n",
    "p.fit(X_train, y_train)\n",
    "predictions = p.predict(X_test)\n",
    "\n",
    "print(\"Perceptron classification accuracy: \", accuracy(y_test, predictions))\n",
    "\n",
    "fig = plt.figure()\n",
    "ax = fig.add_subplot(1,1,1)\n",
    "plt.scatter(X_train[:,0], X_train[:,1], marker='o', c=y_train)\n",
    "\n",
    "x0_1 = np.amin(X_train[:,0])\n",
    "x0_2 = np.amax(X_train[:,0])\n",
    "\n",
    "x1_1 = (-p.weights[0] * x0_1 - p.bias) / p.weights[1]\n",
    "x1_2 = (-p.weights[0] * x0_2 - p.bias) / p.weights[1]\n",
    "\n",
    "ax.plot([x0_1, x0_2],[x1_1, x1_2], 'k')\n",
    "\n",
    "ymin = np.amin(X_train[:,1])\n",
    "ymax = np.amax(X_train[:,1])\n",
    "ax.set_ylim([ymin-3,ymax+3])\n",
    "\n",
    "plt.show()"
   ]
  },
  {
   "cell_type": "code",
   "execution_count": null,
   "id": "df7646a3",
   "metadata": {},
   "outputs": [],
   "source": []
  }
 ],
 "metadata": {
  "kernelspec": {
   "display_name": "Python 3 (ipykernel)",
   "language": "python",
   "name": "python3"
  },
  "language_info": {
   "codemirror_mode": {
    "name": "ipython",
    "version": 3
   },
   "file_extension": ".py",
   "mimetype": "text/x-python",
   "name": "python",
   "nbconvert_exporter": "python",
   "pygments_lexer": "ipython3",
   "version": "3.8.10"
  }
 },
 "nbformat": 4,
 "nbformat_minor": 5
}
