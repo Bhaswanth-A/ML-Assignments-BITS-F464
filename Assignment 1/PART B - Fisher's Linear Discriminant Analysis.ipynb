{
 "cells": [
  {
   "cell_type": "markdown",
   "id": "28314613",
   "metadata": {},
   "source": [
    "# Fisher's Linear Discriminant Analysis"
   ]
  },
  {
   "cell_type": "code",
   "execution_count": 42,
   "id": "0bc86e40",
   "metadata": {},
   "outputs": [],
   "source": [
    "class LDA:\n",
    "    def __init__(self):\n",
    "        pass\n",
    "    \n",
    "    def solve_pdfs(self,pdf_mean_1, pdf_mean_2, std_1, std_2):\n",
    "        self.coeff1 = 1/(2*std_1**2) - 1/(2*std_2**2)\n",
    "        self.coeff2 = pdf_mean_2/(std_2**2) - pdf_mean_1/(std_1**2)\n",
    "        self.coeff3 = pdf_mean_1**2 /(2*std_1**2) - pdf_mean_2**2 / (2*std_2**2) - np.log(std_2/std_1)\n",
    "\n",
    "        self.coeffs = [self.coeff1, self.coeff2, self.coeff3]\n",
    "\n",
    "        self.roots_of_eq = np.roots(self.coeffs)\n",
    "        self.threshold = self.roots_of_eq[1]\n",
    "        return self.threshold\n",
    "    \n",
    "    def plot_pdfs(self,m1, m2, std1, std2, threshold, dataset_name):\n",
    "        x_ax = np.linspace(-2.5,2.5,100000)\n",
    "        plt.plot(x_ax, norm.pdf(x_ax, m1, std1), color='b',label='Label value 1')    \n",
    "        plt.plot(x_ax, norm.pdf(x_ax, m2, std2), color='r',label='Label value 0')\n",
    "        plt.plot([threshold], norm.pdf([threshold], m1, std1), 'o', color='g',label='Threshold')\n",
    "        plt.legend()\n",
    "        plt.show()\n",
    "    \n",
    "    def find_w_cordinates(self,X_1, X_2):\n",
    "\n",
    "        self.m1 = np.mean(X_1,axis=0)\n",
    "        self.m2 = np.mean(X_2,axis=0)\n",
    "        self.mean_diff = np.subtract(self.m1,self.m2)\n",
    "\n",
    "        self.cov1 = np.cov(np.transpose(X_1).astype(float))\n",
    "        self.cov2 = np.cov(np.transpose(X_2).astype(float))\n",
    "\n",
    "        self.Sw_inv = np.linalg.inv(np.add(self.cov1,self.cov2))\n",
    "\n",
    "        self.W = np.dot(self.Sw_inv,self.mean_diff)\n",
    "\n",
    "        self.W_norm = self.W / np.linalg.norm(self.W)\n",
    "\n",
    "        return self.W_norm\n",
    "    \n",
    "    def find_threshold(self,X_1, X_2, W, dataset_name):\n",
    "\n",
    "        self.proj1 = np.dot(W,X_1.transpose())\n",
    "        self.proj2 = np.dot(W,X_2.transpose())\n",
    "\n",
    "        self.proj_mean1 = np.mean(self.proj1)\n",
    "        self.proj_mean2 = np.mean(self.proj2)\n",
    "        self.std1 = np.std(self.proj1)\n",
    "        self.std2 = np.std(self.proj2)\n",
    "\n",
    "        self.threshold = self.solve_pdfs(self.proj_mean1, self.proj_mean2, self.std1, self.std2)\n",
    "\n",
    "        self.plot_pdfs(self.proj_mean1, self.proj_mean2, self.std1, self.std2, self.threshold, dataset_name)\n",
    "        \n",
    "        return self.threshold\n",
    "    \n",
    "    def find_predictions(self,X_test, W, threshold):\n",
    "\n",
    "        # Project the Test data onto W\n",
    "        self.proj_testdata = np.dot(W, X_test.transpose()).reshape(X_test.shape[0],1)\n",
    "\n",
    "        # Compare with threshold\n",
    "        self.predictions = (self.proj_testdata >= threshold).astype(int).reshape(X_test.shape[0],1)\n",
    "\n",
    "        return self.proj_testdata, self.predictions\n",
    "    \n",
    "    def plot_projections(self,projections, y_test, threshold, dataset_name):\n",
    "        self.proj_pred_data = pd.DataFrame(np.column_stack((projections, y_test)))\n",
    "\n",
    "        self.proj1_pred = self.proj_pred_data.loc[self.proj_pred_data[1] == 1][[0]]\n",
    "        self.proj2_pred = self.proj_pred_data.loc[self.proj_pred_data[1] == 0][[0]]    \n",
    "        plt.plot(self.proj1_pred, np.ones(self.proj1_pred.shape), '.', color='b', label='Label value 1')\n",
    "        plt.plot(self.proj2_pred, np.ones(self.proj2_pred.shape), '.',color='r',label='Label value 0')\n",
    "        plt.plot([threshold], [1], 'o', color='g',label='Threshold')\n",
    "        plt.legend()\n",
    "        plt.show()\n",
    "        \n",
    "    def fisher(self,X_1, X_2, X_test, y_test, dataset_name):\n",
    "    \n",
    "        self.W = self.find_w_cordinates(X_1, X_2)\n",
    "\n",
    "        self.threshold = self.find_threshold(X_1, X_2, self.W, dataset_name)\n",
    "\n",
    "        self.projections, self.y_predicted = self.find_predictions(X_test, self.W, self.threshold)\n",
    "        self.projections = self.projections.flatten()\n",
    "\n",
    "        self.plot_projections(self.projections, y_test, self.threshold, dataset_name)\n",
    "\n",
    "        print('Threshold:',self.threshold)\n",
    "        print('accuracy:',self.accuracy(y_test , self.y_predicted))\n",
    "        \n",
    "    def accuracy(self, actual, predicted):\n",
    "        self.actual = pd.DataFrame(actual)\n",
    "        return np.mean((self.actual == predicted).astype(int))\n",
    "    \n",
    "    "
   ]
  },
  {
   "cell_type": "markdown",
   "id": "deee6904",
   "metadata": {},
   "source": [
    "## Learning Task 1"
   ]
  },
  {
   "cell_type": "markdown",
   "id": "a28e3a34",
   "metadata": {},
   "source": [
    "## FLDM1"
   ]
  },
  {
   "cell_type": "code",
   "execution_count": 43,
   "id": "2ce8a918",
   "metadata": {},
   "outputs": [
    {
     "data": {
      "text/plain": [
       "((381, 30), (381,), (188, 30), (188,))"
      ]
     },
     "execution_count": 43,
     "metadata": {},
     "output_type": "execute_result"
    }
   ],
   "source": [
    "import numpy as np\n",
    "import matplotlib.pyplot as plt\n",
    "import pandas as pd\n",
    "import seaborn as sns\n",
    "from scipy.stats import norm as norm\n",
    "\n",
    "df = pd.read_csv('data_standardized.csv', index_col=False)\n",
    "df.drop('Unnamed: 0',axis=1, inplace=True)\n",
    "\n",
    "#Assign predictors to a variable of ndarray (matrix) type\n",
    "array = df.values\n",
    "X = array[:,1:31]\n",
    "y = array[:,0]\n",
    "\n",
    "#transform the class labels from their original string representation (M and B) into integers - Label Encoding\n",
    "for i in range(569):\n",
    "    if y[i]=='M':\n",
    "        y[i] = 1\n",
    "    if y[i]=='B':\n",
    "        y[i] = 0\n",
    "        \n",
    "df.iloc[:,0] = y\n",
    "\n",
    "##Split data set in train 67% and test 33%\n",
    "def sample_first_prows(data, perc=0.67):\n",
    "    return data.head(int(len(data)*(perc))).values\n",
    "\n",
    "array = sample_first_prows(df)\n",
    "\n",
    "array = pd.DataFrame(array)\n",
    "\n",
    "X_train = array.iloc[:,1:31]\n",
    "y_train = array.iloc[:,0]\n",
    "X_test = df.iloc[len(X_train):,1:31]\n",
    "y_test = df.iloc[len(y_train):,0]\n",
    "\n",
    "##Split data set in train 67% and test 33%\n",
    "# X_train, X_test, y_train, y_test = train_test_split( X, y, test_size=0.33, random_state=7)\n",
    "X_train.shape, y_train.shape, X_test.shape, y_test.shape"
   ]
  },
  {
   "cell_type": "code",
   "execution_count": 44,
   "id": "eab63309",
   "metadata": {},
   "outputs": [
    {
     "name": "stdout",
     "output_type": "stream",
     "text": [
      "TESTCASE - 1\n"
     ]
    },
    {
     "data": {
      "image/png": "[encoded data removed]",
      "text/plain": [
       "<Figure size 432x288 with 1 Axes>"
      ]
     },
     "metadata": {
      "needs_background": "light"
     },
     "output_type": "display_data"
    },
    {
     "data": {
      "image/png": "[encoded data removed]",
      "text/plain": [
       "<Figure size 432x288 with 1 Axes>"
      ]
     },
     "metadata": {
      "needs_background": "light"
     },
     "output_type": "display_data"
    },
    {
     "name": "stdout",
     "output_type": "stream",
     "text": [
      "Threshold: 0.032418605863791694\n",
      "accuracy: 0    0.971129\n",
      "dtype: float64\n"
     ]
    },
    {
     "name": "stderr",
     "output_type": "stream",
     "text": [
      "/home/bhaswanth/.local/lib/python3.8/site-packages/numpy/core/fromnumeric.py:3462: FutureWarning: In a future version, DataFrame.mean(axis=None) will return a scalar mean over the entire DataFrame. To retain the old behavior, use 'frame.mean(axis=0)' or just 'frame.mean()'\n",
      "  return mean(axis=axis, dtype=dtype, out=out, **kwargs)\n"
     ]
    }
   ],
   "source": [
    "X = X_train\n",
    "y = y_train\n",
    "\n",
    "X_1 = array.loc[array[0]==1]\n",
    "X_1 = X_1.loc[:,1:31]\n",
    "X_2 = array.loc[array[0]==0]\n",
    "X_2 = X_2.loc[:,1:31]\n",
    "\n",
    "\n",
    "print('TESTCASE - 1')\n",
    "\n",
    "lda = LDA()\n",
    "\n",
    "lda.fisher(X_1, X_2, X, y, \"a1_d1\")"
   ]
  },
  {
   "cell_type": "markdown",
   "id": "422ab25b",
   "metadata": {},
   "source": [
    "## Learning Task 2"
   ]
  },
  {
   "cell_type": "markdown",
   "id": "faa01a3d",
   "metadata": {},
   "source": [
    "## FLDM2"
   ]
  },
  {
   "cell_type": "code",
   "execution_count": 47,
   "id": "ffca0d96",
   "metadata": {},
   "outputs": [
    {
     "data": {
      "text/plain": [
       "((381, 30), (381,), (188, 30), (188,))"
      ]
     },
     "execution_count": 47,
     "metadata": {},
     "output_type": "execute_result"
    }
   ],
   "source": [
    "import numpy as np\n",
    "import matplotlib.pyplot as plt\n",
    "import pandas as pd\n",
    "import seaborn as sns\n",
    "from scipy.stats import norm as norm\n",
    "\n",
    "df = pd.read_csv('data_standardized.csv', index_col=False)\n",
    "df.drop('Unnamed: 0',axis=1, inplace=True)\n",
    "\n",
    "array = df.values\n",
    "X = array[:,1:31]\n",
    "y = array[:,0]\n",
    "\n",
    "# transform the class labels from their original string representation (M and B) into integers - Label Encoding\n",
    "for i in range(569):\n",
    "    if y[i]=='M':\n",
    "        y[i] = 1\n",
    "    if y[i]=='B':\n",
    "        y[i] = 0\n",
    "        \n",
    "df.iloc[:,0] = y\n",
    "\n",
    "# Split data set in train 67% and test 33%\n",
    "def sample_first_prows(data, perc=0.67):\n",
    "    return data.head(int(len(data)*(perc))).values\n",
    "\n",
    "# Shuffle training examples\n",
    "array = sample_first_prows(df)\n",
    "array = pd.DataFrame(array)\n",
    "array1 = array.iloc[:,1:31].sample(frac = 1, axis=1)\n",
    "X_train = array1.iloc[:,0:30]\n",
    "y_train = array.iloc[:,0]\n",
    "X_test = df.iloc[len(X_train):,1:31]\n",
    "y_test = df.iloc[len(y_train):,0]\n",
    "\n",
    "X_train = np.array(X_train)\n",
    "y_train = np.array(y_train)\n",
    "\n",
    "X_train.shape, y_train.shape, X_test.shape, y_test.shape"
   ]
  },
  {
   "cell_type": "code",
   "execution_count": 50,
   "id": "a85bd4c5",
   "metadata": {},
   "outputs": [
    {
     "name": "stdout",
     "output_type": "stream",
     "text": [
      "TESTCASE - 1\n"
     ]
    },
    {
     "data": {
      "image/png": "[encoded data removed]",
      "text/plain": [
       "<Figure size 432x288 with 1 Axes>"
      ]
     },
     "metadata": {
      "needs_background": "light"
     },
     "output_type": "display_data"
    },
    {
     "data": {
      "image/png": "[encoded data removed]",
      "text/plain": [
       "<Figure size 432x288 with 1 Axes>"
      ]
     },
     "metadata": {
      "needs_background": "light"
     },
     "output_type": "display_data"
    },
    {
     "name": "stdout",
     "output_type": "stream",
     "text": [
      "Threshold: 0.032418605863791694\n",
      "accuracy: 0    0.333333\n",
      "dtype: float64\n"
     ]
    },
    {
     "name": "stderr",
     "output_type": "stream",
     "text": [
      "/home/bhaswanth/.local/lib/python3.8/site-packages/numpy/core/fromnumeric.py:3462: FutureWarning: In a future version, DataFrame.mean(axis=None) will return a scalar mean over the entire DataFrame. To retain the old behavior, use 'frame.mean(axis=0)' or just 'frame.mean()'\n",
      "  return mean(axis=axis, dtype=dtype, out=out, **kwargs)\n"
     ]
    }
   ],
   "source": [
    "X = X_train\n",
    "y = y_train\n",
    "\n",
    "X_1 = array.loc[array[0]==1]\n",
    "X_1 = X_1.loc[:,1:31]\n",
    "X_2 = array.loc[array[0]==0]\n",
    "X_2 = X_2.loc[:,1:31]\n",
    "\n",
    "\n",
    "print('TESTCASE - 1')\n",
    "\n",
    "lda = LDA()\n",
    "\n",
    "lda.fisher(X_1, X_2, X, y, \"a1_d1\")"
   ]
  },
  {
   "cell_type": "code",
   "execution_count": null,
   "id": "bb70636d",
   "metadata": {},
   "outputs": [],
   "source": []
  }
 ],
 "metadata": {
  "kernelspec": {
   "display_name": "Python 3 (ipykernel)",
   "language": "python",
   "name": "python3"
  },
  "language_info": {
   "codemirror_mode": {
    "name": "ipython",
    "version": 3
   },
   "file_extension": ".py",
   "mimetype": "text/x-python",
   "name": "python",
   "nbconvert_exporter": "python",
   "pygments_lexer": "ipython3",
   "version": "3.8.10"
  }
 },
 "nbformat": 4,
 "nbformat_minor": 5
}
